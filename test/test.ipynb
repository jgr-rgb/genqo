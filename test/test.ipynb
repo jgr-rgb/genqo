{
 "cells": [
  {
   "cell_type": "code",
   "execution_count": 5,
   "metadata": {},
   "outputs": [
    {
     "name": "stdout",
     "output_type": "stream",
     "text": [
      "Requirement already satisfied: genqo in ./test_env/lib/python3.12/site-packages (0.0.2)\n",
      "Collecting genqo\n",
      "  Downloading genqo-0.0.3-py3-none-any.whl.metadata (751 bytes)\n",
      "Requirement already satisfied: hickle in ./test_env/lib/python3.12/site-packages (from genqo) (5.0.3)\n",
      "Requirement already satisfied: joblib in ./test_env/lib/python3.12/site-packages (from genqo) (1.5.1)\n",
      "Requirement already satisfied: matplotlib in ./test_env/lib/python3.12/site-packages (from genqo) (3.10.5)\n",
      "Requirement already satisfied: numpy in ./test_env/lib/python3.12/site-packages (from genqo) (2.2.6)\n",
      "Requirement already satisfied: pandas in ./test_env/lib/python3.12/site-packages (from genqo) (2.3.1)\n",
      "Requirement already satisfied: scipy in ./test_env/lib/python3.12/site-packages (from genqo) (1.16.1)\n",
      "Requirement already satisfied: sympy in ./test_env/lib/python3.12/site-packages (from genqo) (1.14.0)\n",
      "Requirement already satisfied: thewalrus in ./test_env/lib/python3.12/site-packages (from genqo) (0.22.0)\n",
      "Requirement already satisfied: tqdm in ./test_env/lib/python3.12/site-packages (from genqo) (4.67.1)\n",
      "Requirement already satisfied: h5py>=2.10.0 in ./test_env/lib/python3.12/site-packages (from hickle->genqo) (3.14.0)\n",
      "Requirement already satisfied: contourpy>=1.0.1 in ./test_env/lib/python3.12/site-packages (from matplotlib->genqo) (1.3.3)\n",
      "Requirement already satisfied: cycler>=0.10 in ./test_env/lib/python3.12/site-packages (from matplotlib->genqo) (0.12.1)\n",
      "Requirement already satisfied: fonttools>=4.22.0 in ./test_env/lib/python3.12/site-packages (from matplotlib->genqo) (4.59.0)\n",
      "Requirement already satisfied: kiwisolver>=1.3.1 in ./test_env/lib/python3.12/site-packages (from matplotlib->genqo) (1.4.8)\n",
      "Requirement already satisfied: packaging>=20.0 in ./test_env/lib/python3.12/site-packages (from matplotlib->genqo) (25.0)\n",
      "Requirement already satisfied: pillow>=8 in ./test_env/lib/python3.12/site-packages (from matplotlib->genqo) (11.3.0)\n",
      "Requirement already satisfied: pyparsing>=2.3.1 in ./test_env/lib/python3.12/site-packages (from matplotlib->genqo) (3.2.3)\n",
      "Requirement already satisfied: python-dateutil>=2.7 in ./test_env/lib/python3.12/site-packages (from matplotlib->genqo) (2.9.0.post0)\n",
      "Requirement already satisfied: six>=1.5 in ./test_env/lib/python3.12/site-packages (from python-dateutil>=2.7->matplotlib->genqo) (1.17.0)\n",
      "Requirement already satisfied: pytz>=2020.1 in ./test_env/lib/python3.12/site-packages (from pandas->genqo) (2025.2)\n",
      "Requirement already satisfied: tzdata>=2022.7 in ./test_env/lib/python3.12/site-packages (from pandas->genqo) (2025.2)\n",
      "Requirement already satisfied: mpmath<1.4,>=1.1.0 in ./test_env/lib/python3.12/site-packages (from sympy->genqo) (1.3.0)\n",
      "Requirement already satisfied: dask[delayed] in ./test_env/lib/python3.12/site-packages (from thewalrus->genqo) (2025.7.0)\n",
      "Requirement already satisfied: numba<1,>=0.61.2 in ./test_env/lib/python3.12/site-packages (from thewalrus->genqo) (0.61.2)\n",
      "Requirement already satisfied: llvmlite<0.45,>=0.44.0dev0 in ./test_env/lib/python3.12/site-packages (from numba<1,>=0.61.2->thewalrus->genqo) (0.44.0)\n",
      "Requirement already satisfied: click>=8.1 in ./test_env/lib/python3.12/site-packages (from dask[delayed]->thewalrus->genqo) (8.2.1)\n",
      "Requirement already satisfied: cloudpickle>=3.0.0 in ./test_env/lib/python3.12/site-packages (from dask[delayed]->thewalrus->genqo) (3.1.1)\n",
      "Requirement already satisfied: fsspec>=2021.09.0 in ./test_env/lib/python3.12/site-packages (from dask[delayed]->thewalrus->genqo) (2025.7.0)\n",
      "Requirement already satisfied: partd>=1.4.0 in ./test_env/lib/python3.12/site-packages (from dask[delayed]->thewalrus->genqo) (1.4.2)\n",
      "Requirement already satisfied: pyyaml>=5.3.1 in ./test_env/lib/python3.12/site-packages (from dask[delayed]->thewalrus->genqo) (6.0.2)\n",
      "Requirement already satisfied: toolz>=0.10.0 in ./test_env/lib/python3.12/site-packages (from dask[delayed]->thewalrus->genqo) (1.0.0)\n",
      "Requirement already satisfied: locket in ./test_env/lib/python3.12/site-packages (from partd>=1.4.0->dask[delayed]->thewalrus->genqo) (1.0.0)\n",
      "Downloading genqo-0.0.3-py3-none-any.whl (15 kB)\n",
      "Installing collected packages: genqo\n",
      "  Attempting uninstall: genqo\n",
      "    Found existing installation: genqo 0.0.2\n",
      "    Uninstalling genqo-0.0.2:\n",
      "      Successfully uninstalled genqo-0.0.2\n",
      "Successfully installed genqo-0.0.3\n",
      "Note: you may need to restart the kernel to use updated packages.\n"
     ]
    }
   ],
   "source": [
    "pip install --upgrade genqo"
   ]
  },
  {
   "cell_type": "code",
   "execution_count": 6,
   "metadata": {},
   "outputs": [],
   "source": [
    "import genqo as gq"
   ]
  },
  {
   "cell_type": "code",
   "execution_count": 7,
   "metadata": {},
   "outputs": [],
   "source": [
    "state_test = gq.ZALM()"
   ]
  },
  {
   "cell_type": "code",
   "execution_count": 8,
   "metadata": {},
   "outputs": [],
   "source": [
    "state_test.run()"
   ]
  },
  {
   "cell_type": "code",
   "execution_count": 9,
   "metadata": {},
   "outputs": [],
   "source": [
    "state_test.calculate_probability_success()"
   ]
  },
  {
   "cell_type": "code",
   "execution_count": 10,
   "metadata": {},
   "outputs": [
    {
     "data": {
      "text/latex": [
       "$\\displaystyle 9.42045235254208 \\cdot 10^{-5}$"
      ],
      "text/plain": [
       "9.42045235254208e-5"
      ]
     },
     "execution_count": 10,
     "metadata": {},
     "output_type": "execute_result"
    }
   ],
   "source": [
    "state_test.results['probability_success']"
   ]
  },
  {
   "cell_type": "code",
   "execution_count": null,
   "metadata": {},
   "outputs": [],
   "source": []
  }
 ],
 "metadata": {
  "kernelspec": {
   "display_name": "test_env",
   "language": "python",
   "name": "python3"
  },
  "language_info": {
   "codemirror_mode": {
    "name": "ipython",
    "version": 3
   },
   "file_extension": ".py",
   "mimetype": "text/x-python",
   "name": "python",
   "nbconvert_exporter": "python",
   "pygments_lexer": "ipython3",
   "version": "3.12.7"
  }
 },
 "nbformat": 4,
 "nbformat_minor": 2
}
